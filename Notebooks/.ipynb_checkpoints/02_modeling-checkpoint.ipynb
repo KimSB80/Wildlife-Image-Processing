{
 "cells": [
  {
   "cell_type": "markdown",
   "id": "6cc14a2c-3a15-4ca4-a5e5-ef0492c931af",
   "metadata": {},
   "source": [
    "## Modeling with CNN for Wildlife Image Classification\n",
    "\n",
    "The data for this project is sourced from https://www.kaggle.com/datasets/akash2907/bird-species-classification "
   ]
  },
  {
   "cell_type": "markdown",
   "id": "eeaa4810-3fbd-4e84-b6f8-bb6d9a117b0b",
   "metadata": {},
   "source": [
    "### 1. Import Packages and Load Data"
   ]
  },
  {
   "cell_type": "code",
   "execution_count": 38,
   "id": "d8fdf750-4fb5-4ee4-8b99-16375dd6b717",
   "metadata": {},
   "outputs": [],
   "source": [
    "# Import necessary modules\n",
    "import os\n",
    "import pandas as pd\n",
    "import numpy as np\n",
    "from sklearn import metrics\n",
    "import matplotlib.pyplot as plt\n",
    "import seaborn as sns\n",
    "from scipy import stats\n",
    "import imageio.v2 as imageio\n",
    "import cv2\n"
   ]
  },
  {
   "cell_type": "code",
   "execution_count": 2,
   "id": "db0788ed-89fe-4059-b871-a550a8e713dd",
   "metadata": {},
   "outputs": [],
   "source": [
    "import keras\n",
    "from keras.models import Sequential\n",
    "from keras.utils import to_categorical\n",
    "from keras.layers import Conv2D, MaxPooling2D, Flatten, Dense, Dropout\n",
    "\n",
    "from keras.preprocessing.image import ImageDataGenerator\n",
    "from keras.utils import to_categorical\n",
    "from keras.callbacks import EarlyStopping\n"
   ]
  },
  {
   "cell_type": "markdown",
   "id": "e04609cd-4f0c-4b75-aecb-dd76befb4f9b",
   "metadata": {},
   "source": [
    "### 2. Build model "
   ]
  },
  {
   "cell_type": "markdown",
   "id": "840c7cb2-3e94-4326-8bfc-ce2fddfbf7ad",
   "metadata": {},
   "source": [
    "Loading the training dataset and applying augmentations using ImageDataGenerator. We'll need to one-hot-encode the target variable, which is done within the generator."
   ]
  },
  {
   "cell_type": "code",
   "execution_count": 3,
   "id": "2409d88f-5715-4b23-9877-3babbab9234c",
   "metadata": {},
   "outputs": [],
   "source": [
    "# set path and folder names\n",
    "train_path = \"../jpeg/train\"\n",
    "test_path = \"../jpeg/test\"\n",
    "\n",
    "folder_names = os.listdir(train_path)[1:]"
   ]
  },
  {
   "cell_type": "code",
   "execution_count": 17,
   "id": "e12f4b1d-fe18-439f-8b27-8bea626e67ab",
   "metadata": {},
   "outputs": [],
   "source": [
    "# Set the image and batch size\n",
    "image_size = (200, 200)\n",
    "batch_size = 32\n",
    "\n",
    "# Number of classes\n",
    "num_classes = 16\n"
   ]
  },
  {
   "cell_type": "code",
   "execution_count": 8,
   "id": "844bb0ec-a883-4ee9-9fee-24220d7809dc",
   "metadata": {},
   "outputs": [
    {
     "name": "stdout",
     "output_type": "stream",
     "text": [
      "Found 112 images belonging to 16 classes.\n",
      "Found 37 images belonging to 16 classes.\n",
      "Found 157 images belonging to 16 classes.\n"
     ]
    }
   ],
   "source": [
    "# Create an ImageDataGenerator for data augmentation and preprocessing\n",
    "train_datagen = ImageDataGenerator(\n",
    "    rescale = 1.0 / 255,      # Normalize pixel values to [0, 1]\n",
    "    validation_split = 0.3    # Split the data into 80% for training and 20% for validation\n",
    ")\n",
    "\n",
    "test_datagen = ImageDataGenerator(rescale = 1./255)\n",
    "\n",
    "\n",
    "# Load and preprocess images from the directory\n",
    "train_generator = train_datagen.flow_from_directory(\n",
    "    train_path,\n",
    "    target_size=image_size,\n",
    "    batch_size=batch_size,\n",
    "    class_mode='categorical',  # Set to 'categorical' for one-hot encoded labels\n",
    "    subset='training'          # Use the training subset of your data\n",
    ")\n",
    "\n",
    "validation_generator = train_datagen.flow_from_directory(\n",
    "    train_path,\n",
    "    target_size=image_size,\n",
    "    batch_size=batch_size,\n",
    "    class_mode='categorical',  # Set to 'categorical' for one-hot encoded labels\n",
    "    subset='validation'        # Use the validation subset of your data\n",
    ")\n",
    "\n",
    "test_generator = test_datagen.flow_from_directory(\n",
    "    test_path,\n",
    "    target_size=image_size,\n",
    "    batch_size=batch_size,\n",
    "    class_mode='categorical',  # Set to 'categorical' for one-hot encoded labels\n",
    ")\n"
   ]
  },
  {
   "cell_type": "markdown",
   "id": "e71546e9-6f45-4517-b9ca-1263aa37361a",
   "metadata": {
    "tags": []
   },
   "source": [
    "#### i. Model 1 (base model) -- create a model with very little augmentation or preprocessing as a baseline"
   ]
  },
  {
   "cell_type": "code",
   "execution_count": 10,
   "id": "d734e09c-f825-47e7-b1d9-0b6d0ee47d0b",
   "metadata": {},
   "outputs": [
    {
     "name": "stdout",
     "output_type": "stream",
     "text": [
      "Model: \"sequential_1\"\n",
      "_________________________________________________________________\n",
      " Layer (type)                Output Shape              Param #   \n",
      "=================================================================\n",
      " conv2d_1 (Conv2D)           (None, 196, 196, 32)      2432      \n",
      "                                                                 \n",
      " max_pooling2d_1 (MaxPoolin  (None, 98, 98, 32)        0         \n",
      " g2D)                                                            \n",
      "                                                                 \n",
      " flatten_1 (Flatten)         (None, 307328)            0         \n",
      "                                                                 \n",
      " dense_2 (Dense)             (None, 128)               39338112  \n",
      "                                                                 \n",
      " dense_3 (Dense)             (None, 16)                2064      \n",
      "                                                                 \n",
      "=================================================================\n",
      "Total params: 39342608 (150.08 MB)\n",
      "Trainable params: 39342608 (150.08 MB)\n",
      "Non-trainable params: 0 (0.00 Byte)\n",
      "_________________________________________________________________\n"
     ]
    }
   ],
   "source": [
    "# Create the model\n",
    "model1 = Sequential()\n",
    "\n",
    "# Add a 2D Convolutional layer -- start with a small kernel size\n",
    "model1.add(Conv2D(32, kernel_size=(5, 5), padding='valid', activation='relu', input_shape=(image_size[0], image_size[1], 3)))\n",
    "\n",
    "# Add a MaxPooling layer\n",
    "model1.add(MaxPooling2D(pool_size=(2, 2)))\n",
    "\n",
    "# Add more Conv2D and MaxPooling2D layers as needed later ...\n",
    "\n",
    "# Flatten the output from Convolutional layers\n",
    "model1.add(Flatten())\n",
    "\n",
    "# Add a fully connected Dense layer\n",
    "model1.add(Dense(128, activation='relu'))\n",
    "\n",
    "# Add the final Dense layer with softmax activation (ensures predictions sum to 1)\n",
    "model1.add(Dense(num_classes, activation='softmax'))\n",
    "\n",
    "\n",
    "# Compile the model\n",
    "model1.compile(loss='categorical_crossentropy', optimizer='adam', metrics=['accuracy'])\n",
    "\n",
    "# Summary of the model architecture\n",
    "model1.summary()\n"
   ]
  },
  {
   "cell_type": "code",
   "execution_count": 12,
   "id": "d347c6bd-3e54-4483-bc88-89bbe9a0f446",
   "metadata": {},
   "outputs": [
    {
     "name": "stdout",
     "output_type": "stream",
     "text": [
      "Epoch 1/20\n",
      "3/3 [==============================] - 15s 5s/step - loss: 31.6692 - accuracy: 0.0625 - val_loss: 18.8000 - val_accuracy: 0.0625\n",
      "Epoch 2/20\n",
      "3/3 [==============================] - 13s 5s/step - loss: 14.8826 - accuracy: 0.1875 - val_loss: 10.8121 - val_accuracy: 0.0938\n",
      "Epoch 3/20\n",
      "3/3 [==============================] - 12s 4s/step - loss: 6.8807 - accuracy: 0.3250 - val_loss: 5.7665 - val_accuracy: 0.2188\n",
      "Epoch 4/20\n",
      "3/3 [==============================] - 12s 5s/step - loss: 3.5112 - accuracy: 0.2250 - val_loss: 3.8763 - val_accuracy: 0.2188\n",
      "Epoch 5/20\n",
      "3/3 [==============================] - 11s 4s/step - loss: 2.2101 - accuracy: 0.4125 - val_loss: 3.8366 - val_accuracy: 0.1562\n",
      "Epoch 6/20\n",
      "3/3 [==============================] - 11s 5s/step - loss: 1.5531 - accuracy: 0.6625 - val_loss: 3.0439 - val_accuracy: 0.1250\n",
      "Epoch 7/20\n",
      "3/3 [==============================] - 11s 4s/step - loss: 1.5100 - accuracy: 0.7500 - val_loss: 3.0833 - val_accuracy: 0.2188\n",
      "Epoch 8/20\n",
      "3/3 [==============================] - 13s 5s/step - loss: 1.0203 - accuracy: 0.9167 - val_loss: 4.0333 - val_accuracy: 0.1875\n",
      "Epoch 9/20\n",
      "3/3 [==============================] - 12s 4s/step - loss: 0.5325 - accuracy: 0.9375 - val_loss: 5.5498 - val_accuracy: 0.2500\n",
      "Epoch 10/20\n",
      "3/3 [==============================] - 11s 4s/step - loss: 0.3822 - accuracy: 0.9625 - val_loss: 5.1788 - val_accuracy: 0.1875\n",
      "Epoch 11/20\n",
      "3/3 [==============================] - 13s 5s/step - loss: 0.1370 - accuracy: 0.9792 - val_loss: 5.3917 - val_accuracy: 0.1875\n",
      "Epoch 12/20\n",
      "3/3 [==============================] - 11s 4s/step - loss: 0.0765 - accuracy: 0.9875 - val_loss: 5.7614 - val_accuracy: 0.1562\n",
      "Epoch 13/20\n",
      "3/3 [==============================] - 11s 5s/step - loss: 0.0409 - accuracy: 1.0000 - val_loss: 5.1750 - val_accuracy: 0.2500\n",
      "Epoch 14/20\n",
      "3/3 [==============================] - 11s 4s/step - loss: 0.0277 - accuracy: 1.0000 - val_loss: 4.6495 - val_accuracy: 0.1250\n",
      "Epoch 15/20\n",
      "3/3 [==============================] - 13s 5s/step - loss: 0.0168 - accuracy: 1.0000 - val_loss: 5.5277 - val_accuracy: 0.1562\n",
      "Epoch 16/20\n",
      "3/3 [==============================] - 11s 4s/step - loss: 0.0088 - accuracy: 1.0000 - val_loss: 6.2045 - val_accuracy: 0.1875\n",
      "Epoch 17/20\n",
      "3/3 [==============================] - 13s 5s/step - loss: 0.0043 - accuracy: 1.0000 - val_loss: 7.3199 - val_accuracy: 0.1562\n",
      "Epoch 18/20\n",
      "3/3 [==============================] - 11s 4s/step - loss: 0.0030 - accuracy: 1.0000 - val_loss: 8.7142 - val_accuracy: 0.2500\n",
      "Epoch 19/20\n",
      "3/3 [==============================] - 12s 4s/step - loss: 0.0021 - accuracy: 1.0000 - val_loss: 8.9702 - val_accuracy: 0.2500\n",
      "Epoch 20/20\n",
      "3/3 [==============================] - 11s 4s/step - loss: 0.0023 - accuracy: 1.0000 - val_loss: 8.6873 - val_accuracy: 0.2188\n"
     ]
    },
    {
     "data": {
      "text/plain": [
       "<keras.src.callbacks.History at 0x16a93edd0>"
      ]
     },
     "execution_count": 12,
     "metadata": {},
     "output_type": "execute_result"
    }
   ],
   "source": [
    "# Train the model\n",
    "model1.fit(\n",
    "    train_generator,\n",
    "    steps_per_epoch=train_generator.samples // batch_size,\n",
    "    epochs=20,\n",
    "    validation_data=validation_generator,\n",
    "    validation_steps=validation_generator.samples // batch_size,\n",
    ")\n"
   ]
  },
  {
   "cell_type": "markdown",
   "id": "68414fcf-22a4-46ed-8243-e4010c13ad65",
   "metadata": {},
   "source": [
    "After 13 epochs, the model accuracy is 1.00 but the validation dataset accuracy is very low. This is a small image dataset, and this suggests that the model is overfitting the data. We'll try out data augmentation next and see how the model does. "
   ]
  },
  {
   "cell_type": "markdown",
   "id": "e8afbf47-a2cb-41e9-95b7-9ebcbb02bb3e",
   "metadata": {},
   "source": [
    "#### ii. Model 2 -- create a model using augmentation and preprocessing\n",
    "Use the ImageDataGenerator that augments the data by randomly shifting, rotating, and flipping the images. We'll add more layers to the base model, and use earlystopping to stop after 3 epochs if there is no improvement in model accuracy (using validation loss as a metric)."
   ]
  },
  {
   "cell_type": "code",
   "execution_count": 14,
   "id": "68c83dd0-dbc2-49f6-8ca6-1a2f83ebaea8",
   "metadata": {},
   "outputs": [
    {
     "name": "stdout",
     "output_type": "stream",
     "text": [
      "Found 112 images belonging to 16 classes.\n",
      "Found 37 images belonging to 16 classes.\n",
      "Found 157 images belonging to 16 classes.\n"
     ]
    }
   ],
   "source": [
    "# Create an ImageDataGenerator for data augmentation and preprocessing\n",
    "train_datagen = ImageDataGenerator(\n",
    "    rescale=1.0 / 255,      # Normalize pixel values to [0, 1]\n",
    "    rotation_range=20,      # Randomly rotate images within the range of 20 degrees\n",
    "    width_shift_range=0.1,  # Randomly shift images horizontally within 10% of the image width\n",
    "    height_shift_range=0.1, # Randomly shift images vertically within 10% of the image height\n",
    "    horizontal_flip=True,   # Randomly flip images horizontally\n",
    "    validation_split=0.3    # Split the data into 80% for training and 20% for validation\n",
    ")\n",
    "\n",
    "test_datagen = ImageDataGenerator(rescale=1.0 / 255)      # Normalize pixel values to [0, 1]\n",
    "\n",
    "    \n",
    "# Load and preprocess images from the directory\n",
    "train_generator = train_datagen.flow_from_directory(\n",
    "    train_path,\n",
    "    target_size=image_size,\n",
    "    batch_size=batch_size,\n",
    "    class_mode='categorical',  # Set to 'categorical' for one-hot encoded labels\n",
    "    subset='training'          # Use the training subset of your data\n",
    ")\n",
    "\n",
    "validation_generator = train_datagen.flow_from_directory(\n",
    "    train_path,\n",
    "    target_size=image_size,\n",
    "    batch_size=batch_size,\n",
    "    class_mode='categorical',  # Set to 'categorical' for one-hot encoded labels\n",
    "    subset='validation'        # Use the validation subset of your data\n",
    ")\n",
    "\n",
    "test_generator = test_datagen.flow_from_directory(\n",
    "    test_path,\n",
    "    target_size=image_size,\n",
    "    batch_size=batch_size,\n",
    "    class_mode='categorical',  # Set to 'categorical' for one-hot encoded labels\n",
    ")\n"
   ]
  },
  {
   "cell_type": "code",
   "execution_count": 22,
   "id": "9571b1ff-f204-419f-b098-15287594af86",
   "metadata": {},
   "outputs": [],
   "source": [
    "# Set early stopping if accuracy stops improving\n",
    "early_stopping_monitor = EarlyStopping(monitor='val_accuracy', patience=5)"
   ]
  },
  {
   "cell_type": "code",
   "execution_count": 20,
   "id": "8a4f0dc5-430a-412a-b8db-a793ff330fe7",
   "metadata": {},
   "outputs": [
    {
     "name": "stdout",
     "output_type": "stream",
     "text": [
      "Model: \"sequential_3\"\n",
      "_________________________________________________________________\n",
      " Layer (type)                Output Shape              Param #   \n",
      "=================================================================\n",
      " conv2d_5 (Conv2D)           (None, 196, 196, 32)      2432      \n",
      "                                                                 \n",
      " max_pooling2d_5 (MaxPoolin  (None, 98, 98, 32)        0         \n",
      " g2D)                                                            \n",
      "                                                                 \n",
      " conv2d_6 (Conv2D)           (None, 96, 96, 64)        18496     \n",
      "                                                                 \n",
      " max_pooling2d_6 (MaxPoolin  (None, 48, 48, 64)        0         \n",
      " g2D)                                                            \n",
      "                                                                 \n",
      " conv2d_7 (Conv2D)           (None, 46, 46, 128)       73856     \n",
      "                                                                 \n",
      " max_pooling2d_7 (MaxPoolin  (None, 23, 23, 128)       0         \n",
      " g2D)                                                            \n",
      "                                                                 \n",
      " dropout_1 (Dropout)         (None, 23, 23, 128)       0         \n",
      "                                                                 \n",
      " flatten_3 (Flatten)         (None, 67712)             0         \n",
      "                                                                 \n",
      " dense_7 (Dense)             (None, 128)               8667264   \n",
      "                                                                 \n",
      " dense_8 (Dense)             (None, 50)                6450      \n",
      "                                                                 \n",
      " dense_9 (Dense)             (None, 16)                816       \n",
      "                                                                 \n",
      "=================================================================\n",
      "Total params: 8769314 (33.45 MB)\n",
      "Trainable params: 8769314 (33.45 MB)\n",
      "Non-trainable params: 0 (0.00 Byte)\n",
      "_________________________________________________________________\n"
     ]
    }
   ],
   "source": [
    "# Create the model with more layers\n",
    "model = Sequential()\n",
    "\n",
    "model.add(Conv2D(32, kernel_size=(5, 5), padding='valid', activation='relu', input_shape=(image_size[0], image_size[1], 3)))\n",
    "model.add(MaxPooling2D(pool_size=(2, 2)))\n",
    "\n",
    "model.add(Conv2D(64, kernel_size=(3, 3), padding='valid', activation='relu', input_shape=(image_size[0], image_size[1], 3)))\n",
    "model.add(MaxPooling2D(pool_size=(2, 2)))\n",
    "\n",
    "model.add(Conv2D(128, kernel_size=(3, 3), padding='valid', activation='relu', input_shape=(image_size[0], image_size[1], 3)))\n",
    "model.add(MaxPooling2D(pool_size=(2, 2)))\n",
    "\n",
    "# Add a dropout layer to prevent overfitting\n",
    "model.add(Dropout(0.3))\n",
    "\n",
    "# Flatten the output \n",
    "model.add(Flatten())\n",
    "\n",
    "model.add(Dense(128, activation='relu'))\n",
    "model.add(Dense(50, activation='relu'))\n",
    "model.add(Dense(num_classes, activation='softmax'))\n",
    "\n",
    "\n",
    "# Compile the model\n",
    "model.compile(loss='categorical_crossentropy', optimizer='adam', metrics=['accuracy'])\n",
    "\n",
    "# Summary of the model architecture\n",
    "model.summary()\n"
   ]
  },
  {
   "cell_type": "code",
   "execution_count": 23,
   "id": "0ca2ef6c-48ca-4b17-b852-da7dba0f877a",
   "metadata": {},
   "outputs": [
    {
     "name": "stdout",
     "output_type": "stream",
     "text": [
      "Epoch 1/30\n",
      "4/4 [==============================] - 18s 5s/step - loss: 2.2761 - accuracy: 0.2768 - val_loss: 2.6968 - val_accuracy: 0.1892\n",
      "Epoch 2/30\n",
      "4/4 [==============================] - 15s 4s/step - loss: 2.2319 - accuracy: 0.2232 - val_loss: 2.8025 - val_accuracy: 0.2162\n",
      "Epoch 3/30\n",
      "4/4 [==============================] - 15s 4s/step - loss: 2.1373 - accuracy: 0.2768 - val_loss: 2.8196 - val_accuracy: 0.2162\n",
      "Epoch 4/30\n",
      "4/4 [==============================] - 15s 4s/step - loss: 2.0651 - accuracy: 0.3661 - val_loss: 3.0033 - val_accuracy: 0.2162\n",
      "Epoch 5/30\n",
      "4/4 [==============================] - 15s 4s/step - loss: 1.9246 - accuracy: 0.4018 - val_loss: 3.0437 - val_accuracy: 0.2162\n",
      "Epoch 6/30\n",
      "4/4 [==============================] - 15s 4s/step - loss: 1.8517 - accuracy: 0.4107 - val_loss: 2.9322 - val_accuracy: 0.2162\n",
      "Epoch 7/30\n",
      "4/4 [==============================] - 15s 4s/step - loss: 1.8445 - accuracy: 0.3661 - val_loss: 3.4066 - val_accuracy: 0.2703\n",
      "Epoch 8/30\n",
      "4/4 [==============================] - 15s 4s/step - loss: 1.7315 - accuracy: 0.4554 - val_loss: 3.3933 - val_accuracy: 0.2432\n",
      "Epoch 9/30\n",
      "4/4 [==============================] - 15s 4s/step - loss: 1.7192 - accuracy: 0.4107 - val_loss: 4.3834 - val_accuracy: 0.2703\n",
      "Epoch 10/30\n",
      "4/4 [==============================] - 16s 4s/step - loss: 1.7568 - accuracy: 0.4643 - val_loss: 3.9176 - val_accuracy: 0.1892\n",
      "Epoch 11/30\n",
      "4/4 [==============================] - 15s 4s/step - loss: 1.6507 - accuracy: 0.4732 - val_loss: 4.0480 - val_accuracy: 0.2162\n",
      "Epoch 12/30\n",
      "4/4 [==============================] - 16s 5s/step - loss: 1.3629 - accuracy: 0.5625 - val_loss: 3.8231 - val_accuracy: 0.2162\n"
     ]
    }
   ],
   "source": [
    "# Train the model\n",
    "history = model.fit(\n",
    "    train_generator,\n",
    "    epochs=30,\n",
    "    validation_data=validation_generator,\n",
    "    callbacks = [early_stopping_monitor]\n",
    ")\n"
   ]
  },
  {
   "cell_type": "code",
   "execution_count": 25,
   "id": "9aa176d8-1f51-4699-9775-813260fa2d3d",
   "metadata": {},
   "outputs": [
    {
     "data": {
      "image/png": "[encoded data removed]",
      "text/plain": [
       "<Figure size 640x480 with 1 Axes>"
      ]
     },
     "metadata": {},
     "output_type": "display_data"
    }
   ],
   "source": [
    "# Plot the accuracy for the training and validation data\n",
    "plt.plot(history.history['accuracy'], label='Training Accuracy')\n",
    "plt.plot(history.history['val_accuracy'], label='Validation Accuracy')\n",
    "plt.xlabel('Epoch')\n",
    "plt.ylabel('Accuracy')\n",
    "plt.legend()\n",
    "plt.title('Training and Validation Accuracy')\n",
    "plt.show()"
   ]
  },
  {
   "cell_type": "markdown",
   "id": "f9632f36-063c-4f1f-8b57-1c8a01e250fe",
   "metadata": {
    "tags": []
   },
   "source": [
    "The validation accuracy is still very low, and does not improve after 8 epochs. "
   ]
  },
  {
   "cell_type": "markdown",
   "id": "7d258431-06d8-4327-8ffd-edfc619cdfc3",
   "metadata": {
    "tags": []
   },
   "source": [
    "#### Evaluate the model accuracy for the test data."
   ]
  },
  {
   "cell_type": "code",
   "execution_count": 26,
   "id": "1887f2a5-7bad-454c-b6a6-524fa6756393",
   "metadata": {},
   "outputs": [
    {
     "name": "stdout",
     "output_type": "stream",
     "text": [
      "5/5 [==============================] - 20s 4s/step - loss: 3.4596 - accuracy: 0.3057\n"
     ]
    }
   ],
   "source": [
    "# Evaluate the model using test generator\n",
    "loss, accuracy = model.evaluate(test_generator)\n"
   ]
  },
  {
   "cell_type": "code",
   "execution_count": 27,
   "id": "35457a18-c167-4c15-a036-d6ca3957f770",
   "metadata": {},
   "outputs": [
    {
     "name": "stdout",
     "output_type": "stream",
     "text": [
      "5/5 [==============================] - 20s 4s/step\n"
     ]
    }
   ],
   "source": [
    "# Generate predictions for test dataset and plot confusion matrix\n",
    "predictions = model.predict(test_generator)"
   ]
  },
  {
   "cell_type": "code",
   "execution_count": 28,
   "id": "5b7a6768-5ad7-49f0-8903-b74b9b63936e",
   "metadata": {},
   "outputs": [
    {
     "data": {
      "text/plain": [
       "array([[4.9807382e-01, 2.4716016e-02, 6.1223529e-02, ..., 4.6769180e-03,\n",
       "        5.9860209e-03, 9.8828189e-03],\n",
       "       [6.4097881e-02, 4.3604765e-02, 2.5226317e-02, ..., 1.7911370e-03,\n",
       "        4.7474552e-04, 6.1866728e-04],\n",
       "       [2.3848228e-01, 4.5534968e-02, 5.5097274e-02, ..., 1.9897656e-03,\n",
       "        8.0951338e-04, 1.2826802e-03],\n",
       "       ...,\n",
       "       [6.8130323e-14, 1.0771018e-12, 1.3114385e-14, ..., 4.3392221e-12,\n",
       "        3.5709122e-16, 1.0385379e-14],\n",
       "       [2.8040909e-06, 4.1600069e-05, 2.8270269e-06, ..., 2.5304768e-04,\n",
       "        7.5114390e-06, 3.5770997e-06],\n",
       "       [1.2748298e-04, 1.7633889e-04, 5.9061622e-06, ..., 1.5728171e-01,\n",
       "        3.7451544e-01, 6.4681156e-04]], dtype=float32)"
      ]
     },
     "execution_count": 28,
     "metadata": {},
     "output_type": "execute_result"
    }
   ],
   "source": [
    "predictions"
   ]
  },
  {
   "cell_type": "code",
   "execution_count": 35,
   "id": "d923f1d2-4c05-460c-a0bc-a319b8cda641",
   "metadata": {},
   "outputs": [
    {
     "data": {
      "text/plain": [
       "array([ 0,  8,  8,  0,  8, 14, 14,  7,  7,  2,  7,  0, 14, 14, 12,  0,  0,\n",
       "        3, 15, 14, 14, 14,  0,  0,  1,  8, 14,  0,  8,  0, 15,  8,  8,  1,\n",
       "        0,  7,  0,  0,  8, 14,  8,  0,  7,  0,  7,  0,  0,  0,  0, 15,  0,\n",
       "       14,  8,  0, 14,  0,  2, 13, 13,  0,  0,  0,  0,  8,  0,  7,  9, 15,\n",
       "       14,  7,  0,  9,  3,  0,  8, 14, 14,  9,  0,  0,  9, 14, 15, 14,  0,\n",
       "        0, 13, 14,  8,  0,  1,  0,  0,  0,  0,  8,  0,  0, 13,  0,  9, 11,\n",
       "       15,  2, 15,  0,  8,  8,  1,  8,  8,  0,  8,  8, 14,  0,  0,  1, 14,\n",
       "        0,  0, 14, 13, 14,  0, 14,  3,  0,  3, 13,  8, 15,  0, 14,  3, 14,\n",
       "        0, 13,  7,  6,  8,  1,  7,  7,  0,  0,  1,  8,  7,  8,  0, 15,  0,\n",
       "        2,  8,  8, 14])"
      ]
     },
     "execution_count": 35,
     "metadata": {},
     "output_type": "execute_result"
    }
   ],
   "source": [
    "# Get most likely class\n",
    "predicted_classes = np.argmax(predictions, axis=1)\n",
    "predicted_classes"
   ]
  },
  {
   "cell_type": "code",
   "execution_count": 41,
   "id": "e6009eac-a7b4-4a6a-a067-982cf2e4e1b8",
   "metadata": {},
   "outputs": [
    {
     "data": {
      "text/plain": [
       "array([ 0,  0,  0,  0,  0,  0,  0,  0,  0,  0,  0,  0,  0,  0,  0,  1,  1,\n",
       "        1,  1,  1,  1,  1,  2,  2,  2,  2,  2,  2,  3,  3,  3,  3,  3,  3,\n",
       "        3,  4,  4,  4,  4,  4,  4,  4,  4,  5,  5,  5,  5,  5,  5,  5,  6,\n",
       "        6,  6,  6,  6,  6,  6,  6,  6,  6,  7,  7,  7,  7,  7,  7,  7,  7,\n",
       "        7,  7,  7,  7,  7,  7,  7,  7,  7,  7,  7,  8,  8,  8,  8,  8,  8,\n",
       "        8,  8,  8,  8,  8,  8,  8,  8,  8,  8,  8,  8,  8,  8,  9,  9,  9,\n",
       "        9,  9,  9,  9,  9,  9, 10, 10, 10, 10, 10, 10, 10, 10, 10, 11, 11,\n",
       "       11, 11, 11, 11, 12, 12, 12, 12, 12, 12, 13, 13, 13, 13, 13, 13, 13,\n",
       "       14, 14, 14, 14, 14, 14, 14, 14, 14, 14, 14, 15, 15, 15, 15, 15, 15,\n",
       "       15, 15, 15, 15], dtype=int32)"
      ]
     },
     "execution_count": 41,
     "metadata": {},
     "output_type": "execute_result"
    }
   ],
   "source": [
    "# Get true lables \n",
    "true_classes = test_generator.classes\n",
    "class_labels = list(test_generator.class_indices.keys())  "
   ]
  },
  {
   "cell_type": "code",
   "execution_count": 39,
   "id": "d9c4e7af-71c2-4eb4-bccd-a3e90b868860",
   "metadata": {},
   "outputs": [
    {
     "name": "stdout",
     "output_type": "stream",
     "text": [
      "              precision    recall  f1-score   support\n",
      "\n",
      "      blasti       0.06      0.20      0.09        15\n",
      "      bonegl       0.00      0.00      0.00         7\n",
      "      brhkyt       0.00      0.00      0.00         6\n",
      "      cbrtsh       0.00      0.00      0.00         7\n",
      "      cmnmyn       0.00      0.00      0.00         8\n",
      "      gretit       0.00      0.00      0.00         7\n",
      "      hilpig       0.00      0.00      0.00        10\n",
      "      himbul       0.17      0.11      0.13        19\n",
      "      himgri       0.08      0.10      0.09        20\n",
      "      hsparo       0.20      0.11      0.14         9\n",
      "      indvul       0.00      0.00      0.00         9\n",
      "      jglowl       0.00      0.00      0.00         6\n",
      "      lbicrw       0.00      0.00      0.00         6\n",
      "      mgprob       0.14      0.14      0.14         7\n",
      "      rebimg       0.00      0.00      0.00        11\n",
      "      wcrsrt       0.11      0.10      0.11        10\n",
      "\n",
      "    accuracy                           0.06       157\n",
      "   macro avg       0.05      0.05      0.04       157\n",
      "weighted avg       0.06      0.06      0.06       157\n",
      "\n"
     ]
    },
    {
     "name": "stderr",
     "output_type": "stream",
     "text": [
      "/Users/kimbrewitt/anaconda3/envs/imageenv/lib/python3.11/site-packages/sklearn/metrics/_classification.py:1344: UndefinedMetricWarning: Precision and F-score are ill-defined and being set to 0.0 in labels with no predicted samples. Use `zero_division` parameter to control this behavior.\n",
      "  _warn_prf(average, modifier, msg_start, len(result))\n",
      "/Users/kimbrewitt/anaconda3/envs/imageenv/lib/python3.11/site-packages/sklearn/metrics/_classification.py:1344: UndefinedMetricWarning: Precision and F-score are ill-defined and being set to 0.0 in labels with no predicted samples. Use `zero_division` parameter to control this behavior.\n",
      "  _warn_prf(average, modifier, msg_start, len(result))\n",
      "/Users/kimbrewitt/anaconda3/envs/imageenv/lib/python3.11/site-packages/sklearn/metrics/_classification.py:1344: UndefinedMetricWarning: Precision and F-score are ill-defined and being set to 0.0 in labels with no predicted samples. Use `zero_division` parameter to control this behavior.\n",
      "  _warn_prf(average, modifier, msg_start, len(result))\n"
     ]
    }
   ],
   "source": [
    "report = metrics.classification_report(true_classes, predicted_classes, target_names=class_labels)\n",
    "print(report)   "
   ]
  },
  {
   "cell_type": "code",
   "execution_count": 61,
   "id": "215759e5-76f2-4704-b1b6-2d3a7755af6a",
   "metadata": {},
   "outputs": [
    {
     "data": {
      "image/png": "[encoded data removed]",
      "text/plain": [
       "<Figure size 800x800 with 2 Axes>"
      ]
     },
     "metadata": {},
     "output_type": "display_data"
    }
   ],
   "source": [
    "cm = metrics.confusion_matrix(true_classes, predicted_classes)\n",
    "display_cm = metrics.ConfusionMatrixDisplay(confusion_matrix = cm, \n",
    "                                    display_labels = class_labels)\n",
    "\n",
    "fig, ax = plt.subplots(figsize=(8,8))\n",
    "display_cm.plot(ax=ax, xticks_rotation='vertical')\n",
    "plt.show()"
   ]
  },
  {
   "cell_type": "code",
   "execution_count": null,
   "id": "1ad8f3e4-4787-4f54-9fa3-8b37a53e9ea8",
   "metadata": {},
   "outputs": [],
   "source": []
  }
 ],
 "metadata": {
  "kernelspec": {
   "display_name": "Python 3 (ipykernel)",
   "language": "python",
   "name": "python3"
  },
  "language_info": {
   "codemirror_mode": {
    "name": "ipython",
    "version": 3
   },
   "file_extension": ".py",
   "mimetype": "text/x-python",
   "name": "python",
   "nbconvert_exporter": "python",
   "pygments_lexer": "ipython3",
   "version": "3.11.3"
  }
 },
 "nbformat": 4,
 "nbformat_minor": 5
}
