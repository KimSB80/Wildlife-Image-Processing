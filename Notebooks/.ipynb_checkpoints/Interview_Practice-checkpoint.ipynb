{
 "cells": [
  {
   "cell_type": "code",
   "execution_count": 21,
   "id": "d83eb6a5-481a-44c3-84c5-d8f97b134bc0",
   "metadata": {},
   "outputs": [],
   "source": [
    "# Find target by summing every two elements in a list.\n",
    "def twoSum(nums, target):\n",
    "    \"\"\"\n",
    "        :type nums: List[int]\n",
    "        :type target: int\n",
    "        :rtype: List[int]\n",
    "    \"\"\"\n",
    "    n=len(nums)\n",
    "    for i in range(n-1):\n",
    "        for j in range(i+1, n):\n",
    "            if nums[i] + nums[j] == target:\n",
    "                return [i,j]\n",
    "    return [] #no solution found"
   ]
  },
  {
   "cell_type": "code",
   "execution_count": 37,
   "id": "09a52149-e02b-4ada-80bd-fb558e4f1fbc",
   "metadata": {},
   "outputs": [],
   "source": [
    "# A better way to do this. Make a hash table and check for the complement as you go.\n",
    "def twoSum2(nums, target):\n",
    "    hashmap = {}\n",
    "    for i in range(len(nums)):\n",
    "        complement = target - nums[i]\n",
    "        print(complement)\n",
    "        if complement in hashmap:\n",
    "            return [i, hashmap[complement]]\n",
    "        hashmap[nums[i]] = i\n",
    "        print(hashmap)\n"
   ]
  },
  {
   "cell_type": "code",
   "execution_count": 38,
   "id": "79f603da-6878-43d0-983f-489e84f858e5",
   "metadata": {},
   "outputs": [
    {
     "name": "stdout",
     "output_type": "stream",
     "text": [
      "24\n",
      "{2: 0}\n",
      "19\n",
      "{2: 0, 7: 1}\n",
      "15\n",
      "{2: 0, 7: 1, 11: 2}\n",
      "11\n"
     ]
    },
    {
     "data": {
      "text/plain": [
       "[3, 2]"
      ]
     },
     "execution_count": 38,
     "metadata": {},
     "output_type": "execute_result"
    }
   ],
   "source": [
    "nums=[2,7,11,15]\n",
    "target=26\n",
    "twoSum2(nums,target)"
   ]
  }
 ],
 "metadata": {
  "kernelspec": {
   "display_name": "Python 3 (ipykernel)",
   "language": "python",
   "name": "python3"
  },
  "language_info": {
   "codemirror_mode": {
    "name": "ipython",
    "version": 3
   },
   "file_extension": ".py",
   "mimetype": "text/x-python",
   "name": "python",
   "nbconvert_exporter": "python",
   "pygments_lexer": "ipython3",
   "version": "3.11.3"
  }
 },
 "nbformat": 4,
 "nbformat_minor": 5
}
